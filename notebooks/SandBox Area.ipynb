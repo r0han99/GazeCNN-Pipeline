{
 "cells": [
  {
   "cell_type": "code",
   "execution_count": 1,
   "id": "4a616c2d",
   "metadata": {},
   "outputs": [],
   "source": [
    "# system level requirements \n",
    "import os \n",
    "import sys\n",
    "import shutil \n",
    "import random\n",
    "import time\n",
    "import glob\n",
    "import pandas as pd \n"
   ]
  },
  {
   "cell_type": "code",
   "execution_count": 2,
   "id": "05d60796",
   "metadata": {},
   "outputs": [],
   "source": [
    "def rm_macos_binaries(item_list):\n",
    "\n",
    "    try: \n",
    "        item_list.remove(\".DS_Store\")\n",
    "        return item_list\n",
    "\n",
    "    except:\n",
    "        \n",
    "        return item_list\n"
   ]
  },
  {
   "cell_type": "code",
   "execution_count": 3,
   "id": "af94a1e1",
   "metadata": {},
   "outputs": [
    {
     "name": "stdout",
     "output_type": "stream",
     "text": [
      "../trials/sample-2/Screen.mp4\n",
      "../trials/sample-1/Keyboard.mp4\n"
     ]
    }
   ],
   "source": [
    "TRIALS = '../trials'\n",
    "\n",
    "valid_list = rm_macos_binaries(os.listdir(TRIALS))[1:]\n",
    "\n",
    "for valid_item in valid_list:\n",
    "    subitem_path = os.path.join(TRIALS, valid_item)\n",
    "   \n",
    "    mp4_files = glob.glob(os.path.join(subitem_path, '*.mp4'))\n",
    "\n",
    "    # Now mp4_files contains a list of paths to all .mp4 files in subitem_path\n",
    "    for mp4_file in mp4_files:\n",
    "        print(mp4_file)  # You can process each video file here as needed\n"
   ]
  },
  {
   "cell_type": "code",
   "execution_count": 4,
   "id": "ed5d9c15",
   "metadata": {},
   "outputs": [
    {
     "name": "stdout",
     "output_type": "stream",
     "text": [
      "['ffmpeg', '-i', './trials/sample-2/Screen.mp4', '-vf', \"'fps=200'\", '-q:v', '2', '-start_number', '0', '-vsync', '0', '-frames:v', '12433', './trials/sample-2/sample-2_source/frames_%04d.jpg']\n",
      "['ffmpeg', '-i', './trials/sample-1/Keyboard.mp4', '-vf', \"'fps=200'\", '-q:v', '2', '-start_number', '0', '-vsync', '0', '-frames:v', '11804', './trials/sample-1/sample-1_source/frames_%04d.jpg']\n"
     ]
    }
   ],
   "source": [
    "command_list = [\n",
    "    \"ffmpeg -i ./trials/sample-2/Screen.mp4 -vf 'fps=200' -q:v 2 -start_number 0 -vsync 0 -frames:v 12433 ./trials/sample-2/sample-2_source/frames_%04d.jpg\",\n",
    "    \"ffmpeg -i ./trials/sample-1/Keyboard.mp4 -vf 'fps=200' -q:v 2 -start_number 0 -vsync 0 -frames:v 11804 ./trials/sample-1/sample-1_source/frames_%04d.jpg\"\n",
    "]\n",
    "\n",
    "# Initialize an empty list to store the converted commands\n",
    "ffmpeg_commands = []\n",
    "\n",
    "# Loop through the commands in command_list\n",
    "for command in command_list:\n",
    "    # Split the command into a list of strings by spaces\n",
    "    command_parts = command.split()\n",
    "    # Append the list of strings to ffmpeg_commands\n",
    "    ffmpeg_commands.append(command_parts)\n",
    "\n",
    "# Print the converted ffmpeg commands\n",
    "for command in ffmpeg_commands:\n",
    "    print(command)"
   ]
  },
  {
   "cell_type": "markdown",
   "id": "b330d07a",
   "metadata": {},
   "source": [
    "### Config file"
   ]
  },
  {
   "cell_type": "code",
   "execution_count": 6,
   "id": "862e0c05",
   "metadata": {},
   "outputs": [
    {
     "name": "stdout",
     "output_type": "stream",
     "text": [
      "Enter the start second: 2\n",
      "Enter the end second: 1\n",
      "Frames have been stored in 'frames.json' file.\n"
     ]
    }
   ],
   "source": [
    "import json\n",
    "\n",
    "# Function to take user input for start and end frames\n",
    "def get_frames():\n",
    "    start_frame = int(input(\"Enter the start second: \"))\n",
    "    end_frame = int(input(\"Enter the end second: \"))\n",
    "    return {\"start_second\": start_frame, \"end_second\": end_frame}\n",
    "\n",
    "# Get frames from the user\n",
    "frames = get_frames()\n",
    "\n",
    "# Store frames in a JSON file\n",
    "with open(\"config.json\", \"w\") as json_file:\n",
    "    json.dump(frames, json_file)\n",
    "\n",
    "print(\"Frames have been stored in 'frames.json' file.\")\n"
   ]
  },
  {
   "cell_type": "markdown",
   "id": "4be6f9df",
   "metadata": {},
   "source": [
    "rules, <br>\n",
    "- it should be in seconds\n",
    "- start < end \n",
    "- only numbers ( will number input in a form so fine ) \n",
    "- "
   ]
  }
 ],
 "metadata": {
  "kernelspec": {
   "display_name": "Python 3 (ipykernel)",
   "language": "python",
   "name": "python3"
  },
  "language_info": {
   "codemirror_mode": {
    "name": "ipython",
    "version": 3
   },
   "file_extension": ".py",
   "mimetype": "text/x-python",
   "name": "python",
   "nbconvert_exporter": "python",
   "pygments_lexer": "ipython3",
   "version": "3.11.4"
  }
 },
 "nbformat": 4,
 "nbformat_minor": 5
}
