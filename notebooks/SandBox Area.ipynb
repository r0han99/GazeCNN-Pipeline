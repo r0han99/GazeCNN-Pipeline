{
 "cells": [
  {
   "cell_type": "code",
   "execution_count": 1,
   "id": "4a616c2d",
   "metadata": {},
   "outputs": [],
   "source": [
    "# system level requirements \n",
    "import os \n",
    "import sys\n",
    "import shutil \n",
    "import random\n",
    "import time\n",
    "import glob\n",
    "import pandas as pd \n"
   ]
  },
  {
   "cell_type": "code",
   "execution_count": 2,
   "id": "05d60796",
   "metadata": {},
   "outputs": [],
   "source": [
    "def rm_macos_binaries(item_list):\n",
    "\n",
    "    try: \n",
    "        item_list.remove(\".DS_Store\")\n",
    "        return item_list\n",
    "\n",
    "    except:\n",
    "        \n",
    "        return item_list\n"
   ]
  },
  {
   "cell_type": "code",
   "execution_count": 3,
   "id": "af94a1e1",
   "metadata": {},
   "outputs": [
    {
     "name": "stdout",
     "output_type": "stream",
     "text": [
      "../trials/sample-2/Screen.mp4\n",
      "../trials/sample-1/Keyboard.mp4\n"
     ]
    }
   ],
   "source": [
    "TRIALS = '../trials'\n",
    "\n",
    "valid_list = rm_macos_binaries(os.listdir(TRIALS))[1:]\n",
    "\n",
    "for valid_item in valid_list:\n",
    "    subitem_path = os.path.join(TRIALS, valid_item)\n",
    "   \n",
    "    mp4_files = glob.glob(os.path.join(subitem_path, '*.mp4'))\n",
    "\n",
    "    # Now mp4_files contains a list of paths to all .mp4 files in subitem_path\n",
    "    for mp4_file in mp4_files:\n",
    "        print(mp4_file)  # You can process each video file here as needed\n"
   ]
  },
  {
   "cell_type": "code",
   "execution_count": 4,
   "id": "ed5d9c15",
   "metadata": {},
   "outputs": [
    {
     "name": "stdout",
     "output_type": "stream",
     "text": [
      "['ffmpeg', '-i', './trials/sample-2/Screen.mp4', '-vf', \"'fps=200'\", '-q:v', '2', '-start_number', '0', '-vsync', '0', '-frames:v', '12433', './trials/sample-2/sample-2_source/frames_%04d.jpg']\n",
      "['ffmpeg', '-i', './trials/sample-1/Keyboard.mp4', '-vf', \"'fps=200'\", '-q:v', '2', '-start_number', '0', '-vsync', '0', '-frames:v', '11804', './trials/sample-1/sample-1_source/frames_%04d.jpg']\n"
     ]
    }
   ],
   "source": [
    "command_list = [\n",
    "    \"ffmpeg -i ./trials/sample-2/Screen.mp4 -vf 'fps=200' -q:v 2 -start_number 0 -vsync 0 -frames:v 12433 ./trials/sample-2/sample-2_source/frames_%04d.jpg\",\n",
    "    \"ffmpeg -i ./trials/sample-1/Keyboard.mp4 -vf 'fps=200' -q:v 2 -start_number 0 -vsync 0 -frames:v 11804 ./trials/sample-1/sample-1_source/frames_%04d.jpg\"\n",
    "]\n",
    "\n",
    "# Initialize an empty list to store the converted commands\n",
    "ffmpeg_commands = []\n",
    "\n",
    "# Loop through the commands in command_list\n",
    "for command in command_list:\n",
    "    # Split the command into a list of strings by spaces\n",
    "    command_parts = command.split()\n",
    "    # Append the list of strings to ffmpeg_commands\n",
    "    ffmpeg_commands.append(command_parts)\n",
    "\n",
    "# Print the converted ffmpeg commands\n",
    "for command in ffmpeg_commands:\n",
    "    print(command)"
   ]
  },
  {
   "cell_type": "markdown",
   "id": "b330d07a",
   "metadata": {},
   "source": [
    "### Config file"
   ]
  },
  {
   "cell_type": "code",
   "execution_count": 6,
   "id": "862e0c05",
   "metadata": {},
   "outputs": [
    {
     "name": "stdout",
     "output_type": "stream",
     "text": [
      "Enter the start second: 2\n",
      "Enter the end second: 1\n",
      "Frames have been stored in 'frames.json' file.\n"
     ]
    }
   ],
   "source": [
    "import json\n",
    "\n",
    "# Function to take user input for start and end frames\n",
    "def get_frames():\n",
    "    start_frame = int(input(\"Enter the start second: \"))\n",
    "    end_frame = int(input(\"Enter the end second: \"))\n",
    "    return {\"start_second\": start_frame, \"end_second\": end_frame}\n",
    "\n",
    "# Get frames from the user\n",
    "frames = get_frames()\n",
    "\n",
    "# Store frames in a JSON file\n",
    "with open(\"config.json\", \"w\") as json_file:\n",
    "    json.dump(frames, json_file)\n",
    "\n",
    "print(\"Frames have been stored in 'frames.json' file.\")\n"
   ]
  },
  {
   "cell_type": "markdown",
   "id": "4be6f9df",
   "metadata": {},
   "source": [
    "rules, <br>\n",
    "- it should be in seconds\n",
    "- start < end \n",
    "- only numbers ( will number input in a form so fine ) \n",
    "- "
   ]
  },
  {
   "cell_type": "code",
   "execution_count": 16,
   "id": "b4767ff6",
   "metadata": {},
   "outputs": [],
   "source": [
    "start = pd.read_csv(\"start.csv\")\n",
    "end = pd.read_csv(\"end.csv\")"
   ]
  },
  {
   "cell_type": "code",
   "execution_count": 17,
   "id": "96bc21a0",
   "metadata": {},
   "outputs": [
    {
     "data": {
      "text/html": [
       "<div>\n",
       "<style scoped>\n",
       "    .dataframe tbody tr th:only-of-type {\n",
       "        vertical-align: middle;\n",
       "    }\n",
       "\n",
       "    .dataframe tbody tr th {\n",
       "        vertical-align: top;\n",
       "    }\n",
       "\n",
       "    .dataframe thead th {\n",
       "        text-align: right;\n",
       "    }\n",
       "</style>\n",
       "<table border=\"1\" class=\"dataframe\">\n",
       "  <thead>\n",
       "    <tr style=\"text-align: right;\">\n",
       "      <th></th>\n",
       "      <th>index</th>\n",
       "      <th>0</th>\n",
       "    </tr>\n",
       "  </thead>\n",
       "  <tbody>\n",
       "    <tr>\n",
       "      <th>0</th>\n",
       "      <td>start_sample-1_Keyboard.mp4</td>\n",
       "      <td>4</td>\n",
       "    </tr>\n",
       "    <tr>\n",
       "      <th>1</th>\n",
       "      <td>start_Invalid-Example_Keyboard.mp4</td>\n",
       "      <td>2</td>\n",
       "    </tr>\n",
       "    <tr>\n",
       "      <th>2</th>\n",
       "      <td>start_sample-2_Screen.mp4</td>\n",
       "      <td>8</td>\n",
       "    </tr>\n",
       "  </tbody>\n",
       "</table>\n",
       "</div>"
      ],
      "text/plain": [
       "                                index  0\n",
       "0         start_sample-1_Keyboard.mp4  4\n",
       "1  start_Invalid-Example_Keyboard.mp4  2\n",
       "2           start_sample-2_Screen.mp4  8"
      ]
     },
     "execution_count": 17,
     "metadata": {},
     "output_type": "execute_result"
    }
   ],
   "source": [
    "start"
   ]
  },
  {
   "cell_type": "code",
   "execution_count": 18,
   "id": "e951d738",
   "metadata": {},
   "outputs": [],
   "source": [
    "start['index'] = start['index'].apply(lambda x: x.split(\"_\")[1])\n",
    "end['index'] = end['index'].apply(lambda x: x.split(\"_\")[1])"
   ]
  },
  {
   "cell_type": "code",
   "execution_count": 22,
   "id": "7710c215",
   "metadata": {},
   "outputs": [],
   "source": [
    "start.columns = ['candidate','start']"
   ]
  },
  {
   "cell_type": "code",
   "execution_count": 28,
   "id": "ac71abcb",
   "metadata": {},
   "outputs": [],
   "source": [
    "end.columns = ['candidate','end']"
   ]
  },
  {
   "cell_type": "code",
   "execution_count": 29,
   "id": "e6909968",
   "metadata": {},
   "outputs": [
    {
     "data": {
      "text/html": [
       "<div>\n",
       "<style scoped>\n",
       "    .dataframe tbody tr th:only-of-type {\n",
       "        vertical-align: middle;\n",
       "    }\n",
       "\n",
       "    .dataframe tbody tr th {\n",
       "        vertical-align: top;\n",
       "    }\n",
       "\n",
       "    .dataframe thead th {\n",
       "        text-align: right;\n",
       "    }\n",
       "</style>\n",
       "<table border=\"1\" class=\"dataframe\">\n",
       "  <thead>\n",
       "    <tr style=\"text-align: right;\">\n",
       "      <th></th>\n",
       "      <th>candidate</th>\n",
       "      <th>start</th>\n",
       "      <th>end</th>\n",
       "    </tr>\n",
       "  </thead>\n",
       "  <tbody>\n",
       "    <tr>\n",
       "      <th>0</th>\n",
       "      <td>sample-1</td>\n",
       "      <td>4</td>\n",
       "      <td>6</td>\n",
       "    </tr>\n",
       "    <tr>\n",
       "      <th>1</th>\n",
       "      <td>Invalid-Example</td>\n",
       "      <td>2</td>\n",
       "      <td>5</td>\n",
       "    </tr>\n",
       "    <tr>\n",
       "      <th>2</th>\n",
       "      <td>sample-2</td>\n",
       "      <td>8</td>\n",
       "      <td>9</td>\n",
       "    </tr>\n",
       "  </tbody>\n",
       "</table>\n",
       "</div>"
      ],
      "text/plain": [
       "         candidate  start  end\n",
       "0         sample-1      4    6\n",
       "1  Invalid-Example      2    5\n",
       "2         sample-2      8    9"
      ]
     },
     "execution_count": 29,
     "metadata": {},
     "output_type": "execute_result"
    }
   ],
   "source": [
    "pd.concat([start, end.drop('candidate',axis=1)],axis=1)"
   ]
  },
  {
   "cell_type": "code",
   "execution_count": null,
   "id": "e5e819f8",
   "metadata": {},
   "outputs": [],
   "source": []
  }
 ],
 "metadata": {
  "kernelspec": {
   "display_name": "Python 3 (ipykernel)",
   "language": "python",
   "name": "python3"
  },
  "language_info": {
   "codemirror_mode": {
    "name": "ipython",
    "version": 3
   },
   "file_extension": ".py",
   "mimetype": "text/x-python",
   "name": "python",
   "nbconvert_exporter": "python",
   "pygments_lexer": "ipython3",
   "version": "3.11.4"
  }
 },
 "nbformat": 4,
 "nbformat_minor": 5
}
