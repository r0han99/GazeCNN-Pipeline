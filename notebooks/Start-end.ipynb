{
 "cells": [
  {
   "cell_type": "code",
   "execution_count": 1,
   "id": "d1cb1bbb",
   "metadata": {},
   "outputs": [],
   "source": [
    "import pandas as pd "
   ]
  },
  {
   "cell_type": "code",
   "execution_count": 3,
   "id": "02a31971",
   "metadata": {},
   "outputs": [],
   "source": [
    "data = pd.read_csv(\"../config.csv\")"
   ]
  },
  {
   "cell_type": "code",
   "execution_count": 9,
   "id": "a3c50a8d",
   "metadata": {},
   "outputs": [
    {
     "data": {
      "text/plain": [
       "[(121, 122), (12, 123), (12, 131)]"
      ]
     },
     "execution_count": 9,
     "metadata": {},
     "output_type": "execute_result"
    }
   ],
   "source": [
    "start_end = [(x,y) for x,y  in zip(data['start'], data['end'])]"
   ]
  },
  {
   "cell_type": "code",
   "execution_count": 10,
   "id": "0d6a0dc9",
   "metadata": {},
   "outputs": [
    {
     "data": {
      "text/html": [
       "<div>\n",
       "<style scoped>\n",
       "    .dataframe tbody tr th:only-of-type {\n",
       "        vertical-align: middle;\n",
       "    }\n",
       "\n",
       "    .dataframe tbody tr th {\n",
       "        vertical-align: top;\n",
       "    }\n",
       "\n",
       "    .dataframe thead th {\n",
       "        text-align: right;\n",
       "    }\n",
       "</style>\n",
       "<table border=\"1\" class=\"dataframe\">\n",
       "  <thead>\n",
       "    <tr style=\"text-align: right;\">\n",
       "      <th></th>\n",
       "      <th>candidate</th>\n",
       "      <th>start</th>\n",
       "      <th>end</th>\n",
       "    </tr>\n",
       "  </thead>\n",
       "  <tbody>\n",
       "    <tr>\n",
       "      <th>0</th>\n",
       "      <td>sample-2</td>\n",
       "      <td>121</td>\n",
       "      <td>122</td>\n",
       "    </tr>\n",
       "    <tr>\n",
       "      <th>1</th>\n",
       "      <td>sample-1</td>\n",
       "      <td>12</td>\n",
       "      <td>123</td>\n",
       "    </tr>\n",
       "    <tr>\n",
       "      <th>2</th>\n",
       "      <td>Invalid-Example</td>\n",
       "      <td>12</td>\n",
       "      <td>131</td>\n",
       "    </tr>\n",
       "  </tbody>\n",
       "</table>\n",
       "</div>"
      ],
      "text/plain": [
       "         candidate  start  end\n",
       "0         sample-2    121  122\n",
       "1         sample-1     12  123\n",
       "2  Invalid-Example     12  131"
      ]
     },
     "execution_count": 10,
     "metadata": {},
     "output_type": "execute_result"
    }
   ],
   "source": [
    "data"
   ]
  },
  {
   "cell_type": "code",
   "execution_count": 14,
   "id": "bbdd2fe8",
   "metadata": {},
   "outputs": [],
   "source": [
    "def convert_minute_to_seconds(start, end):\n",
    "    # Function to convert a single minute value to seconds\n",
    "    def to_seconds(minutes):\n",
    "        return minutes * 60\n",
    "\n",
    "    # Convert start and end times from minutes to seconds\n",
    "    start_seconds = to_seconds(start)\n",
    "    end_seconds = to_seconds(end)\n",
    "    \n",
    "    return start_seconds, end_seconds\n"
   ]
  },
  {
   "cell_type": "code",
   "execution_count": 15,
   "id": "f8b36980",
   "metadata": {},
   "outputs": [],
   "source": [
    "items = data['candidate'].to_list()"
   ]
  },
  {
   "cell_type": "code",
   "execution_count": 22,
   "id": "8cbfc928",
   "metadata": {},
   "outputs": [
    {
     "data": {
      "text/plain": [
       "122"
      ]
     },
     "execution_count": 22,
     "metadata": {},
     "output_type": "execute_result"
    }
   ],
   "source": []
  },
  {
   "cell_type": "code",
   "execution_count": 23,
   "id": "170d73e5",
   "metadata": {},
   "outputs": [
    {
     "name": "stdout",
     "output_type": "stream",
     "text": [
      "(7260, 7320)\n",
      "(720, 7380)\n",
      "(720, 7860)\n"
     ]
    }
   ],
   "source": [
    "for candidate in items :\n",
    "   #candidate_path = os.path.join(TRIALS, candidate)\n",
    "    s = data.set_index(\"candidate\").loc[candidate, 'start']\n",
    "    e = data.set_index(\"candidate\").loc[candidate, 'end']\n",
    "    start_sec, end_sec = convert_minute_to_seconds(s,e)\n",
    "    "
   ]
  },
  {
   "cell_type": "code",
   "execution_count": null,
   "id": "017c5132",
   "metadata": {},
   "outputs": [],
   "source": []
  }
 ],
 "metadata": {
  "kernelspec": {
   "display_name": "Python 3 (ipykernel)",
   "language": "python",
   "name": "python3"
  },
  "language_info": {
   "codemirror_mode": {
    "name": "ipython",
    "version": 3
   },
   "file_extension": ".py",
   "mimetype": "text/x-python",
   "name": "python",
   "nbconvert_exporter": "python",
   "pygments_lexer": "ipython3",
   "version": "3.11.4"
  }
 },
 "nbformat": 4,
 "nbformat_minor": 5
}
